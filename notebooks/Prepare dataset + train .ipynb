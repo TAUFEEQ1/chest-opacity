{
 "cells": [
  {
   "cell_type": "code",
   "execution_count": 46,
   "id": "1a73e17b",
   "metadata": {},
   "outputs": [],
   "source": [
    "import pandas as pd\n",
    "from sklearn.model_selection import train_test_split\n",
    "import tensorflow as tf\n",
    "import keras\n",
    "import keras.layers as layers\n",
    "from keras.models import Sequential\n",
    "from keras.regularizers import l1\n",
    "\n",
    "import cv2\n",
    "from sklearn import preprocessing\n",
    "from keras.preprocessing.image import ImageDataGenerator\n",
    "from keras.callbacks import TensorBoard\n",
    "from time import time\n",
    "import numpy as np"
   ]
  },
  {
   "cell_type": "code",
   "execution_count": 47,
   "id": "2c801b2b",
   "metadata": {},
   "outputs": [],
   "source": [
    "df = pd.read_json(\"../processed/known_data.json\")"
   ]
  },
  {
   "cell_type": "code",
   "execution_count": 3,
   "id": "0422f932",
   "metadata": {},
   "outputs": [
    {
     "data": {
      "text/html": [
       "<div>\n",
       "<style scoped>\n",
       "    .dataframe tbody tr th:only-of-type {\n",
       "        vertical-align: middle;\n",
       "    }\n",
       "\n",
       "    .dataframe tbody tr th {\n",
       "        vertical-align: top;\n",
       "    }\n",
       "\n",
       "    .dataframe thead th {\n",
       "        text-align: right;\n",
       "    }\n",
       "</style>\n",
       "<table border=\"1\" class=\"dataframe\">\n",
       "  <thead>\n",
       "    <tr style=\"text-align: right;\">\n",
       "      <th></th>\n",
       "      <th>category</th>\n",
       "      <th>im_path</th>\n",
       "    </tr>\n",
       "  </thead>\n",
       "  <tbody>\n",
       "    <tr>\n",
       "      <th>0</th>\n",
       "      <td>normal</td>\n",
       "      <td>normal_0.png</td>\n",
       "    </tr>\n",
       "    <tr>\n",
       "      <th>1</th>\n",
       "      <td>normal</td>\n",
       "      <td>normal_1.png</td>\n",
       "    </tr>\n",
       "    <tr>\n",
       "      <th>2</th>\n",
       "      <td>normal</td>\n",
       "      <td>normal_10.png</td>\n",
       "    </tr>\n",
       "    <tr>\n",
       "      <th>3</th>\n",
       "      <td>normal</td>\n",
       "      <td>normal_101.png</td>\n",
       "    </tr>\n",
       "    <tr>\n",
       "      <th>4</th>\n",
       "      <td>normal</td>\n",
       "      <td>normal_102.png</td>\n",
       "    </tr>\n",
       "  </tbody>\n",
       "</table>\n",
       "</div>"
      ],
      "text/plain": [
       "  category         im_path\n",
       "0   normal    normal_0.png\n",
       "1   normal    normal_1.png\n",
       "2   normal   normal_10.png\n",
       "3   normal  normal_101.png\n",
       "4   normal  normal_102.png"
      ]
     },
     "execution_count": 3,
     "metadata": {},
     "output_type": "execute_result"
    }
   ],
   "source": [
    "df.head()"
   ]
  },
  {
   "cell_type": "code",
   "execution_count": 4,
   "id": "dbe088db",
   "metadata": {},
   "outputs": [],
   "source": [
    "KNOWN_IMAGES = \"../data/dataset1/known_images/\""
   ]
  },
  {
   "cell_type": "code",
   "execution_count": 5,
   "id": "4485f333",
   "metadata": {},
   "outputs": [],
   "source": [
    "lbr = preprocessing.LabelBinarizer().fit(df.category)"
   ]
  },
  {
   "cell_type": "code",
   "execution_count": 6,
   "id": "2af44aab",
   "metadata": {},
   "outputs": [],
   "source": [
    "import pickle"
   ]
  },
  {
   "cell_type": "code",
   "execution_count": 7,
   "id": "7ca427cb",
   "metadata": {},
   "outputs": [],
   "source": [
    "with open('binarizer', 'wb') as handle:\n",
    "    pickle.dump(lbr,handle)"
   ]
  },
  {
   "cell_type": "code",
   "execution_count": 8,
   "id": "5b5fbf96",
   "metadata": {},
   "outputs": [],
   "source": [
    "df['label'] = lbr.transform(df.category)"
   ]
  },
  {
   "cell_type": "code",
   "execution_count": 9,
   "id": "3daf05f2",
   "metadata": {},
   "outputs": [],
   "source": [
    "new_df = df.copy()"
   ]
  },
  {
   "cell_type": "code",
   "execution_count": 10,
   "id": "cce10416",
   "metadata": {},
   "outputs": [],
   "source": [
    "new_df.drop(\"category\",axis=1,inplace=True)"
   ]
  },
  {
   "cell_type": "code",
   "execution_count": 11,
   "id": "4ffc7269",
   "metadata": {},
   "outputs": [
    {
     "data": {
      "text/html": [
       "<div>\n",
       "<style scoped>\n",
       "    .dataframe tbody tr th:only-of-type {\n",
       "        vertical-align: middle;\n",
       "    }\n",
       "\n",
       "    .dataframe tbody tr th {\n",
       "        vertical-align: top;\n",
       "    }\n",
       "\n",
       "    .dataframe thead th {\n",
       "        text-align: right;\n",
       "    }\n",
       "</style>\n",
       "<table border=\"1\" class=\"dataframe\">\n",
       "  <thead>\n",
       "    <tr style=\"text-align: right;\">\n",
       "      <th></th>\n",
       "      <th>im_path</th>\n",
       "      <th>label</th>\n",
       "    </tr>\n",
       "  </thead>\n",
       "  <tbody>\n",
       "    <tr>\n",
       "      <th>0</th>\n",
       "      <td>normal_0.png</td>\n",
       "      <td>0</td>\n",
       "    </tr>\n",
       "    <tr>\n",
       "      <th>1</th>\n",
       "      <td>normal_1.png</td>\n",
       "      <td>0</td>\n",
       "    </tr>\n",
       "    <tr>\n",
       "      <th>2</th>\n",
       "      <td>normal_10.png</td>\n",
       "      <td>0</td>\n",
       "    </tr>\n",
       "    <tr>\n",
       "      <th>3</th>\n",
       "      <td>normal_101.png</td>\n",
       "      <td>0</td>\n",
       "    </tr>\n",
       "    <tr>\n",
       "      <th>4</th>\n",
       "      <td>normal_102.png</td>\n",
       "      <td>0</td>\n",
       "    </tr>\n",
       "    <tr>\n",
       "      <th>...</th>\n",
       "      <td>...</td>\n",
       "      <td>...</td>\n",
       "    </tr>\n",
       "    <tr>\n",
       "      <th>710</th>\n",
       "      <td>sick_94.png</td>\n",
       "      <td>1</td>\n",
       "    </tr>\n",
       "    <tr>\n",
       "      <th>711</th>\n",
       "      <td>sick_96.png</td>\n",
       "      <td>1</td>\n",
       "    </tr>\n",
       "    <tr>\n",
       "      <th>712</th>\n",
       "      <td>sick_97.png</td>\n",
       "      <td>1</td>\n",
       "    </tr>\n",
       "    <tr>\n",
       "      <th>713</th>\n",
       "      <td>sick_98.png</td>\n",
       "      <td>1</td>\n",
       "    </tr>\n",
       "    <tr>\n",
       "      <th>714</th>\n",
       "      <td>sick_99.png</td>\n",
       "      <td>1</td>\n",
       "    </tr>\n",
       "  </tbody>\n",
       "</table>\n",
       "<p>715 rows × 2 columns</p>\n",
       "</div>"
      ],
      "text/plain": [
       "            im_path  label\n",
       "0      normal_0.png      0\n",
       "1      normal_1.png      0\n",
       "2     normal_10.png      0\n",
       "3    normal_101.png      0\n",
       "4    normal_102.png      0\n",
       "..              ...    ...\n",
       "710     sick_94.png      1\n",
       "711     sick_96.png      1\n",
       "712     sick_97.png      1\n",
       "713     sick_98.png      1\n",
       "714     sick_99.png      1\n",
       "\n",
       "[715 rows x 2 columns]"
      ]
     },
     "execution_count": 11,
     "metadata": {},
     "output_type": "execute_result"
    }
   ],
   "source": [
    "new_df"
   ]
  },
  {
   "cell_type": "code",
   "execution_count": 12,
   "id": "d47e6d0c",
   "metadata": {},
   "outputs": [],
   "source": [
    "train, valid = train_test_split(new_df, test_size=0.2, random_state=1)"
   ]
  },
  {
   "cell_type": "code",
   "execution_count": 13,
   "id": "e2b35a1f",
   "metadata": {},
   "outputs": [
    {
     "data": {
      "text/html": [
       "<div>\n",
       "<style scoped>\n",
       "    .dataframe tbody tr th:only-of-type {\n",
       "        vertical-align: middle;\n",
       "    }\n",
       "\n",
       "    .dataframe tbody tr th {\n",
       "        vertical-align: top;\n",
       "    }\n",
       "\n",
       "    .dataframe thead th {\n",
       "        text-align: right;\n",
       "    }\n",
       "</style>\n",
       "<table border=\"1\" class=\"dataframe\">\n",
       "  <thead>\n",
       "    <tr style=\"text-align: right;\">\n",
       "      <th></th>\n",
       "      <th>im_path</th>\n",
       "      <th>label</th>\n",
       "    </tr>\n",
       "  </thead>\n",
       "  <tbody>\n",
       "    <tr>\n",
       "      <th>622</th>\n",
       "      <td>sick_349.png</td>\n",
       "      <td>1</td>\n",
       "    </tr>\n",
       "    <tr>\n",
       "      <th>600</th>\n",
       "      <td>sick_328.png</td>\n",
       "      <td>1</td>\n",
       "    </tr>\n",
       "    <tr>\n",
       "      <th>709</th>\n",
       "      <td>sick_93.png</td>\n",
       "      <td>1</td>\n",
       "    </tr>\n",
       "    <tr>\n",
       "      <th>664</th>\n",
       "      <td>sick_5.png</td>\n",
       "      <td>1</td>\n",
       "    </tr>\n",
       "    <tr>\n",
       "      <th>449</th>\n",
       "      <td>sick_180.png</td>\n",
       "      <td>1</td>\n",
       "    </tr>\n",
       "    <tr>\n",
       "      <th>...</th>\n",
       "      <td>...</td>\n",
       "      <td>...</td>\n",
       "    </tr>\n",
       "    <tr>\n",
       "      <th>144</th>\n",
       "      <td>normal_233.png</td>\n",
       "      <td>0</td>\n",
       "    </tr>\n",
       "    <tr>\n",
       "      <th>645</th>\n",
       "      <td>sick_37.png</td>\n",
       "      <td>1</td>\n",
       "    </tr>\n",
       "    <tr>\n",
       "      <th>72</th>\n",
       "      <td>normal_165.png</td>\n",
       "      <td>0</td>\n",
       "    </tr>\n",
       "    <tr>\n",
       "      <th>235</th>\n",
       "      <td>normal_318.png</td>\n",
       "      <td>0</td>\n",
       "    </tr>\n",
       "    <tr>\n",
       "      <th>37</th>\n",
       "      <td>normal_132.png</td>\n",
       "      <td>0</td>\n",
       "    </tr>\n",
       "  </tbody>\n",
       "</table>\n",
       "<p>572 rows × 2 columns</p>\n",
       "</div>"
      ],
      "text/plain": [
       "            im_path  label\n",
       "622    sick_349.png      1\n",
       "600    sick_328.png      1\n",
       "709     sick_93.png      1\n",
       "664      sick_5.png      1\n",
       "449    sick_180.png      1\n",
       "..              ...    ...\n",
       "144  normal_233.png      0\n",
       "645     sick_37.png      1\n",
       "72   normal_165.png      0\n",
       "235  normal_318.png      0\n",
       "37   normal_132.png      0\n",
       "\n",
       "[572 rows x 2 columns]"
      ]
     },
     "execution_count": 13,
     "metadata": {},
     "output_type": "execute_result"
    }
   ],
   "source": [
    "train"
   ]
  },
  {
   "cell_type": "code",
   "execution_count": 14,
   "id": "dd0e13d5",
   "metadata": {},
   "outputs": [],
   "source": [
    "train_data = {\"features\":[],\"labels\":[]}\n",
    "test_data = {\"features\":[],\"lables\":[]}"
   ]
  },
  {
   "cell_type": "code",
   "execution_count": 15,
   "id": "54fcf814",
   "metadata": {},
   "outputs": [],
   "source": [
    "def read_img(file_path:str):\n",
    "    img_gray = cv2.imread(KNOWN_IMAGES+file_path,cv2.IMREAD_GRAYSCALE)\n",
    "    resized = cv2.resize(img_gray, (128,128), interpolation = cv2.INTER_AREA)\n",
    "    im_bw = cv2.threshold(resized, 127, 255, cv2.THRESH_BINARY)[1]\n",
    "    return im_bw"
   ]
  },
  {
   "cell_type": "code",
   "execution_count": 16,
   "id": "376740ab",
   "metadata": {},
   "outputs": [],
   "source": [
    "import matplotlib.pyplot as plt"
   ]
  },
  {
   "cell_type": "code",
   "execution_count": 17,
   "id": "0c54576c",
   "metadata": {},
   "outputs": [
    {
     "data": {
      "text/plain": [
       "<matplotlib.image.AxesImage at 0x1eb7c200820>"
      ]
     },
     "execution_count": 17,
     "metadata": {},
     "output_type": "execute_result"
    },
    {
     "data": {
      "image/png": "[encoded data removed]",
      "text/plain": [
       "<Figure size 432x288 with 1 Axes>"
      ]
     },
     "metadata": {
      "needs_background": "light"
     },
     "output_type": "display_data"
    }
   ],
   "source": [
    "plt.imshow(read_img(\"normal_165.png\"))"
   ]
  },
  {
   "cell_type": "code",
   "execution_count": 18,
   "id": "9530b0f1",
   "metadata": {},
   "outputs": [],
   "source": [
    "train_data['labels'] = train['label']"
   ]
  },
  {
   "cell_type": "code",
   "execution_count": 19,
   "id": "b6151187",
   "metadata": {},
   "outputs": [],
   "source": [
    "train_data['features'] = train.im_path.apply(lambda x: read_img(x))"
   ]
  },
  {
   "cell_type": "code",
   "execution_count": 20,
   "id": "c456f54e",
   "metadata": {},
   "outputs": [],
   "source": [
    "test_data['lables'] = valid['label']"
   ]
  },
  {
   "cell_type": "code",
   "execution_count": 21,
   "id": "cac8b583",
   "metadata": {},
   "outputs": [],
   "source": [
    "test_data['features'] = valid.im_path.apply(lambda x: read_img(x))"
   ]
  },
  {
   "cell_type": "code",
   "execution_count": 22,
   "id": "56d8b35b",
   "metadata": {},
   "outputs": [],
   "source": [
    "X_features = []\n",
    "for i in train_data['features']:\n",
    "    k = i.reshape((i.shape[0], i.shape[1], 1))\n",
    "    X_features.append(k)"
   ]
  },
  {
   "cell_type": "code",
   "execution_count": 23,
   "id": "1348806a",
   "metadata": {},
   "outputs": [],
   "source": [
    "X_features = np.stack(X_features, axis=0)"
   ]
  },
  {
   "cell_type": "code",
   "execution_count": 24,
   "id": "cfb1fcb8",
   "metadata": {},
   "outputs": [
    {
     "data": {
      "text/plain": [
       "(572, 128, 128, 1)"
      ]
     },
     "execution_count": 24,
     "metadata": {},
     "output_type": "execute_result"
    }
   ],
   "source": [
    "X_features.shape"
   ]
  },
  {
   "cell_type": "code",
   "execution_count": 25,
   "id": "47b1f785",
   "metadata": {},
   "outputs": [],
   "source": [
    "X_labels = []\n",
    "for i in train_data['labels']:\n",
    "    X_labels.append(i)"
   ]
  },
  {
   "cell_type": "code",
   "execution_count": 26,
   "id": "99a66c39",
   "metadata": {},
   "outputs": [],
   "source": [
    "X_labels = np.reshape(X_labels, (len(X_labels),-1))"
   ]
  },
  {
   "cell_type": "code",
   "execution_count": 27,
   "id": "2c57dafe",
   "metadata": {},
   "outputs": [],
   "source": [
    "Y_features = []\n",
    "for i in test_data['features']:\n",
    "    k = i.reshape((i.shape[0], i.shape[1], 1))\n",
    "    Y_features.append(k)"
   ]
  },
  {
   "cell_type": "code",
   "execution_count": 28,
   "id": "31f2d776",
   "metadata": {},
   "outputs": [],
   "source": [
    "Y_features = np.stack(Y_features,axis=0)"
   ]
  },
  {
   "cell_type": "code",
   "execution_count": 29,
   "id": "a9bca121",
   "metadata": {},
   "outputs": [],
   "source": [
    "Y_labels = []\n",
    "for i in test_data['lables']:\n",
    "    Y_labels.append(i)"
   ]
  },
  {
   "cell_type": "code",
   "execution_count": 30,
   "id": "370c5929",
   "metadata": {},
   "outputs": [],
   "source": [
    "Y_labels = np.reshape(Y_labels, (len(Y_labels),-1))"
   ]
  },
  {
   "cell_type": "code",
   "execution_count": 63,
   "id": "bf436615",
   "metadata": {},
   "outputs": [],
   "source": [
    "model = Sequential()\n",
    "\n",
    "model.add(layers.Conv2D(filters=6, kernel_size=(3, 3), activation='relu', input_shape=(128,128,1)))\n",
    "model.add(layers.AveragePooling2D())\n",
    "\n",
    "model.add(layers.Conv2D(filters=16, kernel_size=(3, 3), activation='relu'))\n",
    "model.add(layers.AveragePooling2D())\n",
    "\n",
    "model.add(layers.Flatten())\n",
    "\n",
    "model.add(layers.Dense(units=120, activation='relu',kernel_regularizer=l1(0.1)))\n",
    "\n",
    "model.add(layers.Dense(units=84, activation='relu'))\n",
    "\n",
    "model.add(layers.Dense(units=1, activation = 'sigmoid'))"
   ]
  },
  {
   "cell_type": "code",
   "execution_count": 64,
   "id": "13cddea8",
   "metadata": {},
   "outputs": [
    {
     "name": "stdout",
     "output_type": "stream",
     "text": [
      "Model: \"sequential_3\"\n",
      "_________________________________________________________________\n",
      " Layer (type)                Output Shape              Param #   \n",
      "=================================================================\n",
      " conv2d_6 (Conv2D)           (None, 126, 126, 6)       60        \n",
      "                                                                 \n",
      " average_pooling2d_6 (Averag  (None, 63, 63, 6)        0         \n",
      " ePooling2D)                                                     \n",
      "                                                                 \n",
      " conv2d_7 (Conv2D)           (None, 61, 61, 16)        880       \n",
      "                                                                 \n",
      " average_pooling2d_7 (Averag  (None, 30, 30, 16)       0         \n",
      " ePooling2D)                                                     \n",
      "                                                                 \n",
      " flatten_3 (Flatten)         (None, 14400)             0         \n",
      "                                                                 \n",
      " dense_9 (Dense)             (None, 120)               1728120   \n",
      "                                                                 \n",
      " dense_10 (Dense)            (None, 84)                10164     \n",
      "                                                                 \n",
      " dense_11 (Dense)            (None, 1)                 85        \n",
      "                                                                 \n",
      "=================================================================\n",
      "Total params: 1,739,309\n",
      "Trainable params: 1,739,309\n",
      "Non-trainable params: 0\n",
      "_________________________________________________________________\n"
     ]
    }
   ],
   "source": [
    "model.summary()"
   ]
  },
  {
   "cell_type": "code",
   "execution_count": 65,
   "id": "004766c4",
   "metadata": {},
   "outputs": [],
   "source": [
    "bce = keras.losses.BinaryCrossentropy(from_logits=False)"
   ]
  },
  {
   "cell_type": "code",
   "execution_count": 66,
   "id": "da9a7355",
   "metadata": {},
   "outputs": [],
   "source": [
    "model.compile(loss=bce, optimizer=keras.optimizers.adam_v2.Adam(), metrics=['accuracy'])"
   ]
  },
  {
   "cell_type": "code",
   "execution_count": 67,
   "id": "7ac7e5f8",
   "metadata": {},
   "outputs": [],
   "source": [
    "EPOCHS = 18\n",
    "BATCH_SIZE = 30"
   ]
  },
  {
   "cell_type": "code",
   "execution_count": 68,
   "id": "4e936e79",
   "metadata": {},
   "outputs": [],
   "source": [
    "train_generator = ImageDataGenerator(shear_range=0.4,\n",
    "        zoom_range=0.4,horizontal_flip=True).flow(X_features, X_labels, batch_size=BATCH_SIZE)\n",
    "validation_generator = ImageDataGenerator().flow(Y_features, Y_labels, batch_size=BATCH_SIZE)"
   ]
  },
  {
   "cell_type": "code",
   "execution_count": 69,
   "id": "daaa042c",
   "metadata": {},
   "outputs": [
    {
     "name": "stderr",
     "output_type": "stream",
     "text": [
      "C:\\Users\\Taufeeq\\AppData\\Local\\Temp/ipykernel_19804/425097378.py:5: UserWarning: `Model.fit_generator` is deprecated and will be removed in a future version. Please use `Model.fit`, which supports generators.\n",
      "  model.fit_generator(train_generator, steps_per_epoch=steps_per_epoch, epochs=EPOCHS,\n"
     ]
    },
    {
     "name": "stdout",
     "output_type": "stream",
     "text": [
      "Epoch 1/18\n",
      "19/19 [==============================] - 2s 74ms/step - loss: 807.7003 - accuracy: 0.7306 - val_loss: 252.8042 - val_accuracy: 0.8583\n",
      "Epoch 2/18\n",
      "19/19 [==============================] - 1s 62ms/step - loss: 168.8263 - accuracy: 0.7565 - val_loss: 87.4602 - val_accuracy: 0.8333\n",
      "Epoch 3/18\n",
      "19/19 [==============================] - 1s 62ms/step - loss: 56.6193 - accuracy: 0.7786 - val_loss: 36.3230 - val_accuracy: 0.8583\n",
      "Epoch 4/18\n",
      "19/19 [==============================] - 1s 64ms/step - loss: 30.9366 - accuracy: 0.7509 - val_loss: 27.0769 - val_accuracy: 0.7000\n",
      "Epoch 5/18\n",
      "19/19 [==============================] - 1s 64ms/step - loss: 25.4729 - accuracy: 0.7325 - val_loss: 24.2663 - val_accuracy: 0.8167\n",
      "Epoch 6/18\n",
      "19/19 [==============================] - 1s 63ms/step - loss: 23.8100 - accuracy: 0.7989 - val_loss: 23.6580 - val_accuracy: 0.9000\n",
      "Epoch 7/18\n",
      "19/19 [==============================] - 1s 63ms/step - loss: 23.2745 - accuracy: 0.7657 - val_loss: 23.4985 - val_accuracy: 0.8500\n",
      "Epoch 8/18\n",
      "19/19 [==============================] - 1s 61ms/step - loss: 23.7415 - accuracy: 0.7269 - val_loss: 23.6726 - val_accuracy: 0.7000\n",
      "Epoch 9/18\n",
      "19/19 [==============================] - 1s 55ms/step - loss: 23.1757 - accuracy: 0.7804 - val_loss: 22.5132 - val_accuracy: 0.6750\n",
      "Epoch 10/18\n",
      "19/19 [==============================] - 1s 55ms/step - loss: 22.6046 - accuracy: 0.7841 - val_loss: 23.7117 - val_accuracy: 0.8667\n",
      "Epoch 11/18\n",
      "19/19 [==============================] - 1s 55ms/step - loss: 22.7196 - accuracy: 0.8155 - val_loss: 22.0974 - val_accuracy: 0.8417\n",
      "Epoch 12/18\n",
      "19/19 [==============================] - 1s 55ms/step - loss: 21.9215 - accuracy: 0.7989 - val_loss: 21.7315 - val_accuracy: 0.8583\n",
      "Epoch 13/18\n",
      "19/19 [==============================] - 1s 55ms/step - loss: 23.3981 - accuracy: 0.7768 - val_loss: 21.9723 - val_accuracy: 0.8667\n",
      "Epoch 14/18\n",
      "19/19 [==============================] - 1s 57ms/step - loss: 21.3378 - accuracy: 0.8193 - val_loss: 20.9023 - val_accuracy: 0.8917\n",
      "Epoch 15/18\n",
      "19/19 [==============================] - 1s 56ms/step - loss: 21.0244 - accuracy: 0.8210 - val_loss: 20.8431 - val_accuracy: 0.8333\n",
      "Epoch 16/18\n",
      "19/19 [==============================] - 1s 57ms/step - loss: 21.6894 - accuracy: 0.8007 - val_loss: 21.6362 - val_accuracy: 0.8750\n",
      "Epoch 17/18\n",
      "19/19 [==============================] - 1s 55ms/step - loss: 21.2099 - accuracy: 0.8081 - val_loss: 20.7518 - val_accuracy: 0.8917\n",
      "Epoch 18/18\n",
      "19/19 [==============================] - 1s 57ms/step - loss: 21.3095 - accuracy: 0.8044 - val_loss: 21.3858 - val_accuracy: 0.8833\n"
     ]
    },
    {
     "data": {
      "text/plain": [
       "<keras.callbacks.History at 0x1eb0c14d9d0>"
      ]
     },
     "execution_count": 69,
     "metadata": {},
     "output_type": "execute_result"
    }
   ],
   "source": [
    "steps_per_epoch = X_features.shape[0]//BATCH_SIZE\n",
    "validation_steps = Y_features.shape[0]//BATCH_SIZE\n",
    "\n",
    "tensorboard = TensorBoard(log_dir=\"logs/{}\".format(time()))\n",
    "model.fit_generator(train_generator, steps_per_epoch=steps_per_epoch, epochs=EPOCHS, \n",
    "                    validation_data=validation_generator, validation_steps=validation_steps, \n",
    "                    shuffle=True, callbacks=[tensorboard])"
   ]
  },
  {
   "cell_type": "code",
   "execution_count": 70,
   "id": "e1dc041c",
   "metadata": {},
   "outputs": [
    {
     "name": "stdout",
     "output_type": "stream",
     "text": [
      "INFO:tensorflow:Assets written to: ./lenet-95\\assets\n"
     ]
    }
   ],
   "source": [
    "model.save(\"./lenet-95\")"
   ]
  },
  {
   "cell_type": "code",
   "execution_count": 71,
   "id": "0fbfaf7a",
   "metadata": {},
   "outputs": [],
   "source": [
    "from sklearn.metrics import precision_score, recall_score"
   ]
  },
  {
   "cell_type": "code",
   "execution_count": 72,
   "id": "e3d3c86c",
   "metadata": {},
   "outputs": [],
   "source": [
    "y_pred = model.predict(Y_features)"
   ]
  },
  {
   "cell_type": "code",
   "execution_count": 73,
   "id": "888d4d58",
   "metadata": {},
   "outputs": [],
   "source": [
    "y_pred = list(map(lambda x: 0 if x<0.5 else 1, y_pred))"
   ]
  },
  {
   "cell_type": "code",
   "execution_count": 74,
   "id": "38a7eccc",
   "metadata": {},
   "outputs": [
    {
     "data": {
      "text/plain": [
       "0.8709677419354839"
      ]
     },
     "execution_count": 74,
     "metadata": {},
     "output_type": "execute_result"
    }
   ],
   "source": [
    "precision_score(Y_labels,y_pred)"
   ]
  },
  {
   "cell_type": "code",
   "execution_count": 75,
   "id": "6db4c97d",
   "metadata": {},
   "outputs": [
    {
     "data": {
      "text/plain": [
       "0.782608695652174"
      ]
     },
     "execution_count": 75,
     "metadata": {},
     "output_type": "execute_result"
    }
   ],
   "source": [
    "recall_score(Y_labels,y_pred)"
   ]
  },
  {
   "cell_type": "code",
   "execution_count": null,
   "id": "8e1587a3",
   "metadata": {},
   "outputs": [],
   "source": []
  }
 ],
 "metadata": {
  "kernelspec": {
   "display_name": "Python 3 (ipykernel)",
   "language": "python",
   "name": "python3"
  },
  "language_info": {
   "codemirror_mode": {
    "name": "ipython",
    "version": 3
   },
   "file_extension": ".py",
   "mimetype": "text/x-python",
   "name": "python",
   "nbconvert_exporter": "python",
   "pygments_lexer": "ipython3",
   "version": "3.9.5"
  }
 },
 "nbformat": 4,
 "nbformat_minor": 5
}
